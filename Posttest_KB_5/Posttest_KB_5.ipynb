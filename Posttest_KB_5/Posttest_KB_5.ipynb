{
 "cells": [
  {
   "cell_type": "markdown",
   "id": "b9870438-4045-4a96-80aa-51712f6a8cc8",
   "metadata": {},
   "source": [
    "### Fathia Nuq Qamarina\n",
    "### 2009106012\n",
    "### A1 20\n",
    "\n",
    "### Posttest 5"
   ]
  },
  {
   "cell_type": "markdown",
   "id": "792c9f45-6ced-4d3c-9b72-809c3ae5759e",
   "metadata": {},
   "source": [
    "#### Import dan Read Data"
   ]
  },
  {
   "cell_type": "code",
   "execution_count": 229,
   "id": "e30e75d8-318f-4051-ac8c-37713db4d907",
   "metadata": {},
   "outputs": [],
   "source": [
    "#import package\n",
    "import pandas as pd\n",
    "import numpy as np"
   ]
  },
  {
   "cell_type": "code",
   "execution_count": 230,
   "id": "f273f27d-30e7-44ca-aa11-96f404612646",
   "metadata": {},
   "outputs": [
    {
     "data": {
      "text/html": [
       "<div>\n",
       "<style scoped>\n",
       "    .dataframe tbody tr th:only-of-type {\n",
       "        vertical-align: middle;\n",
       "    }\n",
       "\n",
       "    .dataframe tbody tr th {\n",
       "        vertical-align: top;\n",
       "    }\n",
       "\n",
       "    .dataframe thead th {\n",
       "        text-align: right;\n",
       "    }\n",
       "</style>\n",
       "<table border=\"1\" class=\"dataframe\">\n",
       "  <thead>\n",
       "    <tr style=\"text-align: right;\">\n",
       "      <th></th>\n",
       "      <th>Education</th>\n",
       "      <th>JoiningYear</th>\n",
       "      <th>City</th>\n",
       "      <th>PaymentTier</th>\n",
       "      <th>Age</th>\n",
       "      <th>Gender</th>\n",
       "      <th>EverBenched</th>\n",
       "      <th>ExperienceInCurrentDomain</th>\n",
       "      <th>LeaveOrNot</th>\n",
       "      <th>EverBenched_No</th>\n",
       "      <th>EverBenched_Yes</th>\n",
       "    </tr>\n",
       "  </thead>\n",
       "  <tbody>\n",
       "    <tr>\n",
       "      <th>0</th>\n",
       "      <td>Bachelors</td>\n",
       "      <td>2017</td>\n",
       "      <td>Bangalore</td>\n",
       "      <td>3.000000</td>\n",
       "      <td>34</td>\n",
       "      <td>Male</td>\n",
       "      <td>No</td>\n",
       "      <td>0</td>\n",
       "      <td>0</td>\n",
       "      <td>1.0</td>\n",
       "      <td>0.0</td>\n",
       "    </tr>\n",
       "    <tr>\n",
       "      <th>1</th>\n",
       "      <td>Bachelors</td>\n",
       "      <td>2013</td>\n",
       "      <td>Pune</td>\n",
       "      <td>1.000000</td>\n",
       "      <td>28</td>\n",
       "      <td>Female</td>\n",
       "      <td>No</td>\n",
       "      <td>3</td>\n",
       "      <td>1</td>\n",
       "      <td>1.0</td>\n",
       "      <td>0.0</td>\n",
       "    </tr>\n",
       "    <tr>\n",
       "      <th>2</th>\n",
       "      <td>Bachelors</td>\n",
       "      <td>2014</td>\n",
       "      <td>New Delhi</td>\n",
       "      <td>3.000000</td>\n",
       "      <td>29</td>\n",
       "      <td>Female</td>\n",
       "      <td>No</td>\n",
       "      <td>2</td>\n",
       "      <td>0</td>\n",
       "      <td>1.0</td>\n",
       "      <td>0.0</td>\n",
       "    </tr>\n",
       "    <tr>\n",
       "      <th>3</th>\n",
       "      <td>Masters</td>\n",
       "      <td>2016</td>\n",
       "      <td>Bangalore</td>\n",
       "      <td>2.698194</td>\n",
       "      <td>27</td>\n",
       "      <td>Male</td>\n",
       "      <td>No</td>\n",
       "      <td>5</td>\n",
       "      <td>1</td>\n",
       "      <td>1.0</td>\n",
       "      <td>0.0</td>\n",
       "    </tr>\n",
       "    <tr>\n",
       "      <th>4</th>\n",
       "      <td>Masters</td>\n",
       "      <td>2017</td>\n",
       "      <td>Pune</td>\n",
       "      <td>3.000000</td>\n",
       "      <td>24</td>\n",
       "      <td>Male</td>\n",
       "      <td>Yes</td>\n",
       "      <td>2</td>\n",
       "      <td>1</td>\n",
       "      <td>0.0</td>\n",
       "      <td>1.0</td>\n",
       "    </tr>\n",
       "  </tbody>\n",
       "</table>\n",
       "</div>"
      ],
      "text/plain": [
       "   Education  JoiningYear       City  PaymentTier  Age  Gender EverBenched  \\\n",
       "0  Bachelors         2017  Bangalore     3.000000   34    Male          No   \n",
       "1  Bachelors         2013       Pune     1.000000   28  Female          No   \n",
       "2  Bachelors         2014  New Delhi     3.000000   29  Female          No   \n",
       "3    Masters         2016  Bangalore     2.698194   27    Male          No   \n",
       "4    Masters         2017       Pune     3.000000   24    Male         Yes   \n",
       "\n",
       "   ExperienceInCurrentDomain  LeaveOrNot  EverBenched_No  EverBenched_Yes  \n",
       "0                          0           0             1.0              0.0  \n",
       "1                          3           1             1.0              0.0  \n",
       "2                          2           0             1.0              0.0  \n",
       "3                          5           1             1.0              0.0  \n",
       "4                          2           1             0.0              1.0  "
      ]
     },
     "execution_count": 230,
     "metadata": {},
     "output_type": "execute_result"
    }
   ],
   "source": [
    "df = pd.read_csv(\"Data_Employee_baru.csv\")\n",
    "df.head()"
   ]
  },
  {
   "cell_type": "markdown",
   "id": "d0ff7adb-3a1e-42ce-b905-26bc49555a45",
   "metadata": {},
   "source": [
    "#### Membuat Atribut LeaveOrNot menjadi label"
   ]
  },
  {
   "cell_type": "code",
   "execution_count": 231,
   "id": "92c9b533-e9ac-4021-877d-449cff9724a5",
   "metadata": {},
   "outputs": [],
   "source": [
    "x = df.drop(['EverBenched_No','EverBenched_Yes'], axis=1)\n",
    "y = df['LeaveOrNot']"
   ]
  },
  {
   "cell_type": "markdown",
   "id": "98442ef8-c67c-44bb-ac1e-ec827522e447",
   "metadata": {},
   "source": [
    "#### Membuat encoding data"
   ]
  },
  {
   "cell_type": "code",
   "execution_count": 232,
   "id": "6d4e8096-feef-4038-8f81-4f5e06e4fc03",
   "metadata": {},
   "outputs": [
    {
     "data": {
      "text/html": [
       "<div>\n",
       "<style scoped>\n",
       "    .dataframe tbody tr th:only-of-type {\n",
       "        vertical-align: middle;\n",
       "    }\n",
       "\n",
       "    .dataframe tbody tr th {\n",
       "        vertical-align: top;\n",
       "    }\n",
       "\n",
       "    .dataframe thead th {\n",
       "        text-align: right;\n",
       "    }\n",
       "</style>\n",
       "<table border=\"1\" class=\"dataframe\">\n",
       "  <thead>\n",
       "    <tr style=\"text-align: right;\">\n",
       "      <th></th>\n",
       "      <th>JoiningYear</th>\n",
       "      <th>PaymentTier</th>\n",
       "      <th>Age</th>\n",
       "      <th>ExperienceInCurrentDomain</th>\n",
       "      <th>LeaveOrNot</th>\n",
       "      <th>Education_Bachelors</th>\n",
       "      <th>Education_Masters</th>\n",
       "      <th>Education_PHD</th>\n",
       "      <th>City_Bangalore</th>\n",
       "      <th>City_New Delhi</th>\n",
       "      <th>City_Pune</th>\n",
       "      <th>Gender_Female</th>\n",
       "      <th>Gender_Male</th>\n",
       "      <th>EverBenched_No</th>\n",
       "      <th>EverBenched_Yes</th>\n",
       "    </tr>\n",
       "  </thead>\n",
       "  <tbody>\n",
       "    <tr>\n",
       "      <th>0</th>\n",
       "      <td>2017</td>\n",
       "      <td>3.000000</td>\n",
       "      <td>34</td>\n",
       "      <td>0</td>\n",
       "      <td>0</td>\n",
       "      <td>1</td>\n",
       "      <td>0</td>\n",
       "      <td>0</td>\n",
       "      <td>1</td>\n",
       "      <td>0</td>\n",
       "      <td>0</td>\n",
       "      <td>0</td>\n",
       "      <td>1</td>\n",
       "      <td>1</td>\n",
       "      <td>0</td>\n",
       "    </tr>\n",
       "    <tr>\n",
       "      <th>1</th>\n",
       "      <td>2013</td>\n",
       "      <td>1.000000</td>\n",
       "      <td>28</td>\n",
       "      <td>3</td>\n",
       "      <td>1</td>\n",
       "      <td>1</td>\n",
       "      <td>0</td>\n",
       "      <td>0</td>\n",
       "      <td>0</td>\n",
       "      <td>0</td>\n",
       "      <td>1</td>\n",
       "      <td>1</td>\n",
       "      <td>0</td>\n",
       "      <td>1</td>\n",
       "      <td>0</td>\n",
       "    </tr>\n",
       "    <tr>\n",
       "      <th>2</th>\n",
       "      <td>2014</td>\n",
       "      <td>3.000000</td>\n",
       "      <td>29</td>\n",
       "      <td>2</td>\n",
       "      <td>0</td>\n",
       "      <td>1</td>\n",
       "      <td>0</td>\n",
       "      <td>0</td>\n",
       "      <td>0</td>\n",
       "      <td>1</td>\n",
       "      <td>0</td>\n",
       "      <td>1</td>\n",
       "      <td>0</td>\n",
       "      <td>1</td>\n",
       "      <td>0</td>\n",
       "    </tr>\n",
       "    <tr>\n",
       "      <th>3</th>\n",
       "      <td>2016</td>\n",
       "      <td>2.698194</td>\n",
       "      <td>27</td>\n",
       "      <td>5</td>\n",
       "      <td>1</td>\n",
       "      <td>0</td>\n",
       "      <td>1</td>\n",
       "      <td>0</td>\n",
       "      <td>1</td>\n",
       "      <td>0</td>\n",
       "      <td>0</td>\n",
       "      <td>0</td>\n",
       "      <td>1</td>\n",
       "      <td>1</td>\n",
       "      <td>0</td>\n",
       "    </tr>\n",
       "    <tr>\n",
       "      <th>4</th>\n",
       "      <td>2017</td>\n",
       "      <td>3.000000</td>\n",
       "      <td>24</td>\n",
       "      <td>2</td>\n",
       "      <td>1</td>\n",
       "      <td>0</td>\n",
       "      <td>1</td>\n",
       "      <td>0</td>\n",
       "      <td>0</td>\n",
       "      <td>0</td>\n",
       "      <td>1</td>\n",
       "      <td>0</td>\n",
       "      <td>1</td>\n",
       "      <td>0</td>\n",
       "      <td>1</td>\n",
       "    </tr>\n",
       "  </tbody>\n",
       "</table>\n",
       "</div>"
      ],
      "text/plain": [
       "   JoiningYear  PaymentTier  Age  ExperienceInCurrentDomain  LeaveOrNot  \\\n",
       "0         2017     3.000000   34                          0           0   \n",
       "1         2013     1.000000   28                          3           1   \n",
       "2         2014     3.000000   29                          2           0   \n",
       "3         2016     2.698194   27                          5           1   \n",
       "4         2017     3.000000   24                          2           1   \n",
       "\n",
       "   Education_Bachelors  Education_Masters  Education_PHD  City_Bangalore  \\\n",
       "0                    1                  0              0               1   \n",
       "1                    1                  0              0               0   \n",
       "2                    1                  0              0               0   \n",
       "3                    0                  1              0               1   \n",
       "4                    0                  1              0               0   \n",
       "\n",
       "   City_New Delhi  City_Pune  Gender_Female  Gender_Male  EverBenched_No  \\\n",
       "0               0          0              0            1               1   \n",
       "1               0          1              1            0               1   \n",
       "2               1          0              1            0               1   \n",
       "3               0          0              0            1               1   \n",
       "4               0          1              0            1               0   \n",
       "\n",
       "   EverBenched_Yes  \n",
       "0                0  \n",
       "1                0  \n",
       "2                0  \n",
       "3                0  \n",
       "4                1  "
      ]
     },
     "execution_count": 232,
     "metadata": {},
     "output_type": "execute_result"
    }
   ],
   "source": [
    "X = pd.get_dummies(x)\n",
    "X.head()"
   ]
  },
  {
   "cell_type": "markdown",
   "id": "eb902c67-1118-4200-ac78-cc28d84f1791",
   "metadata": {},
   "source": [
    "#### Membagi Data ( Split Data)"
   ]
  },
  {
   "cell_type": "code",
   "execution_count": 233,
   "id": "fda42b5c-044c-4015-9684-99b0adea64a4",
   "metadata": {},
   "outputs": [],
   "source": [
    "from sklearn.model_selection import train_test_split\n",
    "\n",
    "X_train, X_test, y_train, y_test = train_test_split(X,y,test_size = 0.3)"
   ]
  },
  {
   "cell_type": "markdown",
   "id": "674c7bf0-13d9-460f-86eb-34b7370b15c9",
   "metadata": {},
   "source": [
    "#### Normalisasi Data "
   ]
  },
  {
   "cell_type": "code",
   "execution_count": 234,
   "id": "5c319095-0b5c-4ca6-8fd0-09fcc831d888",
   "metadata": {},
   "outputs": [],
   "source": [
    "from sklearn.preprocessing import StandardScaler\n",
    "\n",
    "S_scl = StandardScaler()\n",
    "X_train_std = S_scl.fit_transform(X_train)\n",
    "X_test_std = S_scl.transform(X_test)"
   ]
  },
  {
   "cell_type": "markdown",
   "id": "e69b3614-2e0a-4ccf-b7c3-7aa9e0db907d",
   "metadata": {},
   "source": [
    "## Algoritma Supervised Learning"
   ]
  },
  {
   "cell_type": "markdown",
   "id": "8de60193-f0fb-4216-bb0f-3f3dc3040cbc",
   "metadata": {},
   "source": [
    "### >> K-Nearest Neighbour (KNN)"
   ]
  },
  {
   "cell_type": "code",
   "execution_count": 235,
   "id": "02cc03f5-0445-48cd-8ec0-99d08521f1ae",
   "metadata": {},
   "outputs": [
    {
     "data": {
      "text/html": [
       "<style>#sk-container-id-28 {color: black;background-color: white;}#sk-container-id-28 pre{padding: 0;}#sk-container-id-28 div.sk-toggleable {background-color: white;}#sk-container-id-28 label.sk-toggleable__label {cursor: pointer;display: block;width: 100%;margin-bottom: 0;padding: 0.3em;box-sizing: border-box;text-align: center;}#sk-container-id-28 label.sk-toggleable__label-arrow:before {content: \"▸\";float: left;margin-right: 0.25em;color: #696969;}#sk-container-id-28 label.sk-toggleable__label-arrow:hover:before {color: black;}#sk-container-id-28 div.sk-estimator:hover label.sk-toggleable__label-arrow:before {color: black;}#sk-container-id-28 div.sk-toggleable__content {max-height: 0;max-width: 0;overflow: hidden;text-align: left;background-color: #f0f8ff;}#sk-container-id-28 div.sk-toggleable__content pre {margin: 0.2em;color: black;border-radius: 0.25em;background-color: #f0f8ff;}#sk-container-id-28 input.sk-toggleable__control:checked~div.sk-toggleable__content {max-height: 200px;max-width: 100%;overflow: auto;}#sk-container-id-28 input.sk-toggleable__control:checked~label.sk-toggleable__label-arrow:before {content: \"▾\";}#sk-container-id-28 div.sk-estimator input.sk-toggleable__control:checked~label.sk-toggleable__label {background-color: #d4ebff;}#sk-container-id-28 div.sk-label input.sk-toggleable__control:checked~label.sk-toggleable__label {background-color: #d4ebff;}#sk-container-id-28 input.sk-hidden--visually {border: 0;clip: rect(1px 1px 1px 1px);clip: rect(1px, 1px, 1px, 1px);height: 1px;margin: -1px;overflow: hidden;padding: 0;position: absolute;width: 1px;}#sk-container-id-28 div.sk-estimator {font-family: monospace;background-color: #f0f8ff;border: 1px dotted black;border-radius: 0.25em;box-sizing: border-box;margin-bottom: 0.5em;}#sk-container-id-28 div.sk-estimator:hover {background-color: #d4ebff;}#sk-container-id-28 div.sk-parallel-item::after {content: \"\";width: 100%;border-bottom: 1px solid gray;flex-grow: 1;}#sk-container-id-28 div.sk-label:hover label.sk-toggleable__label {background-color: #d4ebff;}#sk-container-id-28 div.sk-serial::before {content: \"\";position: absolute;border-left: 1px solid gray;box-sizing: border-box;top: 0;bottom: 0;left: 50%;z-index: 0;}#sk-container-id-28 div.sk-serial {display: flex;flex-direction: column;align-items: center;background-color: white;padding-right: 0.2em;padding-left: 0.2em;position: relative;}#sk-container-id-28 div.sk-item {position: relative;z-index: 1;}#sk-container-id-28 div.sk-parallel {display: flex;align-items: stretch;justify-content: center;background-color: white;position: relative;}#sk-container-id-28 div.sk-item::before, #sk-container-id-28 div.sk-parallel-item::before {content: \"\";position: absolute;border-left: 1px solid gray;box-sizing: border-box;top: 0;bottom: 0;left: 50%;z-index: -1;}#sk-container-id-28 div.sk-parallel-item {display: flex;flex-direction: column;z-index: 1;position: relative;background-color: white;}#sk-container-id-28 div.sk-parallel-item:first-child::after {align-self: flex-end;width: 50%;}#sk-container-id-28 div.sk-parallel-item:last-child::after {align-self: flex-start;width: 50%;}#sk-container-id-28 div.sk-parallel-item:only-child::after {width: 0;}#sk-container-id-28 div.sk-dashed-wrapped {border: 1px dashed gray;margin: 0 0.4em 0.5em 0.4em;box-sizing: border-box;padding-bottom: 0.4em;background-color: white;}#sk-container-id-28 div.sk-label label {font-family: monospace;font-weight: bold;display: inline-block;line-height: 1.2em;}#sk-container-id-28 div.sk-label-container {text-align: center;}#sk-container-id-28 div.sk-container {/* jupyter's `normalize.less` sets `[hidden] { display: none; }` but bootstrap.min.css set `[hidden] { display: none !important; }` so we also need the `!important` here to be able to override the default hidden behavior on the sphinx rendered scikit-learn.org. See: https://github.com/scikit-learn/scikit-learn/issues/21755 */display: inline-block !important;position: relative;}#sk-container-id-28 div.sk-text-repr-fallback {display: none;}</style><div id=\"sk-container-id-28\" class=\"sk-top-container\"><div class=\"sk-text-repr-fallback\"><pre>KNeighborsClassifier()</pre><b>In a Jupyter environment, please rerun this cell to show the HTML representation or trust the notebook. <br />On GitHub, the HTML representation is unable to render, please try loading this page with nbviewer.org.</b></div><div class=\"sk-container\" hidden><div class=\"sk-item\"><div class=\"sk-estimator sk-toggleable\"><input class=\"sk-toggleable__control sk-hidden--visually\" id=\"sk-estimator-id-28\" type=\"checkbox\" checked><label for=\"sk-estimator-id-28\" class=\"sk-toggleable__label sk-toggleable__label-arrow\">KNeighborsClassifier</label><div class=\"sk-toggleable__content\"><pre>KNeighborsClassifier()</pre></div></div></div></div></div>"
      ],
      "text/plain": [
       "KNeighborsClassifier()"
      ]
     },
     "execution_count": 235,
     "metadata": {},
     "output_type": "execute_result"
    }
   ],
   "source": [
    "from sklearn.neighbors import KNeighborsClassifier\n",
    "\n",
    "model_knn = KNeighborsClassifier()\n",
    "\n",
    "model_knn.fit(X_train, y_train)\n",
    "\n"
   ]
  },
  {
   "cell_type": "markdown",
   "id": "b00a6ec2-3a6f-4926-bb0c-2736cace8e5d",
   "metadata": {},
   "source": [
    "- Akurasi Data Train dan Test"
   ]
  },
  {
   "cell_type": "code",
   "execution_count": 236,
   "id": "1ef0363a-1b6a-46aa-af10-c5e7b8cc6d4e",
   "metadata": {},
   "outputs": [
    {
     "name": "stdout",
     "output_type": "stream",
     "text": [
      "Akurasi test set model KNN :  0.899\n",
      "Akurasi training set model KNN :  0.94\n"
     ]
    }
   ],
   "source": [
    "knn_train = model_knn.score(X_train,y_train)\n",
    "knn_test = model_knn.score(X_test,y_test)\n",
    "\n",
    "print('Akurasi test set model KNN : ', round(knn_test,3))\n",
    "print('Akurasi training set model KNN : ', round(knn_train,3))"
   ]
  },
  {
   "cell_type": "markdown",
   "id": "0eeb64e3-7580-44cf-9342-5df5f0fdf98f",
   "metadata": {},
   "source": [
    "- Akurasi Algoritma"
   ]
  },
  {
   "cell_type": "code",
   "execution_count": 237,
   "id": "c87e0cea-79d7-4220-8692-ec53367f52df",
   "metadata": {},
   "outputs": [
    {
     "name": "stdout",
     "output_type": "stream",
     "text": [
      "Akurasi algoritma KNN : 0.618\n"
     ]
    },
    {
     "name": "stderr",
     "output_type": "stream",
     "text": [
      "C:\\Users\\LENOVO\\AppData\\Local\\Programs\\Python\\Python310\\lib\\site-packages\\sklearn\\base.py:450: UserWarning: X does not have valid feature names, but KNeighborsClassifier was fitted with feature names\n",
      "  warnings.warn(\n"
     ]
    }
   ],
   "source": [
    "from sklearn.metrics import accuracy_score, confusion_matrix\n",
    "knn_pred = model_knn.predict(X_test_std)\n",
    "akurasi_KNN = accuracy_score(y_test, knn_pred)\n",
    "print(\"Akurasi algoritma KNN :\", round(akurasi_KNN,3))"
   ]
  },
  {
   "cell_type": "markdown",
   "id": "b9fb0703-f8e4-4005-8e58-5b8d5de4084e",
   "metadata": {},
   "source": [
    "### >> Support Vector Machine (SVM)"
   ]
  },
  {
   "cell_type": "code",
   "execution_count": 238,
   "id": "f825027b-d51f-4135-a63b-19527e326d6b",
   "metadata": {},
   "outputs": [
    {
     "data": {
      "text/html": [
       "<style>#sk-container-id-29 {color: black;background-color: white;}#sk-container-id-29 pre{padding: 0;}#sk-container-id-29 div.sk-toggleable {background-color: white;}#sk-container-id-29 label.sk-toggleable__label {cursor: pointer;display: block;width: 100%;margin-bottom: 0;padding: 0.3em;box-sizing: border-box;text-align: center;}#sk-container-id-29 label.sk-toggleable__label-arrow:before {content: \"▸\";float: left;margin-right: 0.25em;color: #696969;}#sk-container-id-29 label.sk-toggleable__label-arrow:hover:before {color: black;}#sk-container-id-29 div.sk-estimator:hover label.sk-toggleable__label-arrow:before {color: black;}#sk-container-id-29 div.sk-toggleable__content {max-height: 0;max-width: 0;overflow: hidden;text-align: left;background-color: #f0f8ff;}#sk-container-id-29 div.sk-toggleable__content pre {margin: 0.2em;color: black;border-radius: 0.25em;background-color: #f0f8ff;}#sk-container-id-29 input.sk-toggleable__control:checked~div.sk-toggleable__content {max-height: 200px;max-width: 100%;overflow: auto;}#sk-container-id-29 input.sk-toggleable__control:checked~label.sk-toggleable__label-arrow:before {content: \"▾\";}#sk-container-id-29 div.sk-estimator input.sk-toggleable__control:checked~label.sk-toggleable__label {background-color: #d4ebff;}#sk-container-id-29 div.sk-label input.sk-toggleable__control:checked~label.sk-toggleable__label {background-color: #d4ebff;}#sk-container-id-29 input.sk-hidden--visually {border: 0;clip: rect(1px 1px 1px 1px);clip: rect(1px, 1px, 1px, 1px);height: 1px;margin: -1px;overflow: hidden;padding: 0;position: absolute;width: 1px;}#sk-container-id-29 div.sk-estimator {font-family: monospace;background-color: #f0f8ff;border: 1px dotted black;border-radius: 0.25em;box-sizing: border-box;margin-bottom: 0.5em;}#sk-container-id-29 div.sk-estimator:hover {background-color: #d4ebff;}#sk-container-id-29 div.sk-parallel-item::after {content: \"\";width: 100%;border-bottom: 1px solid gray;flex-grow: 1;}#sk-container-id-29 div.sk-label:hover label.sk-toggleable__label {background-color: #d4ebff;}#sk-container-id-29 div.sk-serial::before {content: \"\";position: absolute;border-left: 1px solid gray;box-sizing: border-box;top: 0;bottom: 0;left: 50%;z-index: 0;}#sk-container-id-29 div.sk-serial {display: flex;flex-direction: column;align-items: center;background-color: white;padding-right: 0.2em;padding-left: 0.2em;position: relative;}#sk-container-id-29 div.sk-item {position: relative;z-index: 1;}#sk-container-id-29 div.sk-parallel {display: flex;align-items: stretch;justify-content: center;background-color: white;position: relative;}#sk-container-id-29 div.sk-item::before, #sk-container-id-29 div.sk-parallel-item::before {content: \"\";position: absolute;border-left: 1px solid gray;box-sizing: border-box;top: 0;bottom: 0;left: 50%;z-index: -1;}#sk-container-id-29 div.sk-parallel-item {display: flex;flex-direction: column;z-index: 1;position: relative;background-color: white;}#sk-container-id-29 div.sk-parallel-item:first-child::after {align-self: flex-end;width: 50%;}#sk-container-id-29 div.sk-parallel-item:last-child::after {align-self: flex-start;width: 50%;}#sk-container-id-29 div.sk-parallel-item:only-child::after {width: 0;}#sk-container-id-29 div.sk-dashed-wrapped {border: 1px dashed gray;margin: 0 0.4em 0.5em 0.4em;box-sizing: border-box;padding-bottom: 0.4em;background-color: white;}#sk-container-id-29 div.sk-label label {font-family: monospace;font-weight: bold;display: inline-block;line-height: 1.2em;}#sk-container-id-29 div.sk-label-container {text-align: center;}#sk-container-id-29 div.sk-container {/* jupyter's `normalize.less` sets `[hidden] { display: none; }` but bootstrap.min.css set `[hidden] { display: none !important; }` so we also need the `!important` here to be able to override the default hidden behavior on the sphinx rendered scikit-learn.org. See: https://github.com/scikit-learn/scikit-learn/issues/21755 */display: inline-block !important;position: relative;}#sk-container-id-29 div.sk-text-repr-fallback {display: none;}</style><div id=\"sk-container-id-29\" class=\"sk-top-container\"><div class=\"sk-text-repr-fallback\"><pre>SVC()</pre><b>In a Jupyter environment, please rerun this cell to show the HTML representation or trust the notebook. <br />On GitHub, the HTML representation is unable to render, please try loading this page with nbviewer.org.</b></div><div class=\"sk-container\" hidden><div class=\"sk-item\"><div class=\"sk-estimator sk-toggleable\"><input class=\"sk-toggleable__control sk-hidden--visually\" id=\"sk-estimator-id-29\" type=\"checkbox\" checked><label for=\"sk-estimator-id-29\" class=\"sk-toggleable__label sk-toggleable__label-arrow\">SVC</label><div class=\"sk-toggleable__content\"><pre>SVC()</pre></div></div></div></div></div>"
      ],
      "text/plain": [
       "SVC()"
      ]
     },
     "execution_count": 238,
     "metadata": {},
     "output_type": "execute_result"
    }
   ],
   "source": [
    "from sklearn.svm import SVC\n",
    "\n",
    "model_svm = SVC(kernel='rbf')\n",
    "\n",
    "model_svm.fit(X_train,y_train)"
   ]
  },
  {
   "cell_type": "markdown",
   "id": "c50243e0-14f7-4bec-a480-35cdd7b166bc",
   "metadata": {},
   "source": [
    "- Akurasi Data Train dan Test"
   ]
  },
  {
   "cell_type": "code",
   "execution_count": 239,
   "id": "ac87a840-02dd-4519-b4e1-5a68316b43f2",
   "metadata": {},
   "outputs": [
    {
     "name": "stdout",
     "output_type": "stream",
     "text": [
      "Akurasi Training Set model SVM :  0.601\n",
      "Akurasi Test Set model SVM     :  0.618\n"
     ]
    }
   ],
   "source": [
    "svm_train = model_svm.score(X_train,y_train)\n",
    "svm_test = model_svm.score(X_test,y_test)\n",
    "\n",
    "print(\"Akurasi Training Set model SVM : \", round(svm_train,3))\n",
    "print(\"Akurasi Test Set model SVM     : \", round(svm_test,3))"
   ]
  },
  {
   "cell_type": "markdown",
   "id": "c1d3a40c-f87f-433a-aca6-243b8268b20c",
   "metadata": {},
   "source": [
    "- Akurasi Algoritma"
   ]
  },
  {
   "cell_type": "code",
   "execution_count": 240,
   "id": "e1422e1d-6bf4-4d3f-a9d9-df9a6fdab7c1",
   "metadata": {},
   "outputs": [
    {
     "name": "stdout",
     "output_type": "stream",
     "text": [
      "Akurasi algoritma SVC : 0.618\n"
     ]
    },
    {
     "name": "stderr",
     "output_type": "stream",
     "text": [
      "C:\\Users\\LENOVO\\AppData\\Local\\Programs\\Python\\Python310\\lib\\site-packages\\sklearn\\base.py:450: UserWarning: X does not have valid feature names, but SVC was fitted with feature names\n",
      "  warnings.warn(\n"
     ]
    }
   ],
   "source": [
    "svm_pred = model_svm.predict(X_test_std)\n",
    "akurasi_svm = accuracy_score(y_test, svm_pred)\n",
    "print(\"Akurasi algoritma SVC :\", round(akurasi_svm,3))"
   ]
  },
  {
   "cell_type": "markdown",
   "id": "ce604c25-a07f-401b-9b7e-bdb778552b68",
   "metadata": {},
   "source": [
    "## Membandingkan Algoritma \n"
   ]
  },
  {
   "cell_type": "code",
   "execution_count": 241,
   "id": "a0425cec-fd8c-4526-87c1-cef8d3a28217",
   "metadata": {},
   "outputs": [],
   "source": [
    "# mengimport package\n",
    "import matplotlib.pyplot as plt\n",
    "import seaborn as sns"
   ]
  },
  {
   "cell_type": "markdown",
   "id": "b29a4e52-c15b-4306-a735-1ba1026b4d5d",
   "metadata": {},
   "source": [
    "- Akurasi data Test"
   ]
  },
  {
   "cell_type": "code",
   "execution_count": 242,
   "id": "652cd9f1-779f-45ad-a6c5-485e14a3b533",
   "metadata": {},
   "outputs": [
    {
     "data": {
      "image/png": "[encoded data removed]",
      "text/plain": [
       "<Figure size 1000x1000 with 1 Axes>"
      ]
     },
     "metadata": {},
     "output_type": "display_data"
    }
   ],
   "source": [
    "algoritma = [\"KNN\",\"SVM\"]\n",
    "pred_train = [knn_train,svm_train]\n",
    "plt.figure(figsize=(10,10))\n",
    "sns.barplot(x= algoritma, y= pred_train,palette='Paired')\n",
    "plt.title(\"Akurasi Training Set\")\n",
    "plt.xlabel(\"Algoritma\")\n",
    "plt.ylabel(\"Akurasi (%)\")\n",
    "plt.show()"
   ]
  },
  {
   "cell_type": "markdown",
   "id": "813ccd2b-a643-4d3d-8e3e-4bd8f08f40e4",
   "metadata": {},
   "source": [
    "- Akurasi data Training"
   ]
  },
  {
   "cell_type": "code",
   "execution_count": 243,
   "id": "d49e5e50-58ca-4499-90b3-0f74802520d9",
   "metadata": {},
   "outputs": [
    {
     "data": {
      "image/png": "[encoded data removed]",
      "text/plain": [
       "<Figure size 1000x1000 with 1 Axes>"
      ]
     },
     "metadata": {},
     "output_type": "display_data"
    }
   ],
   "source": [
    "algoritma = [\"KNN\",\"SVM\"]\n",
    "pred_test = [knn_test,svm_test]\n",
    "plt.figure(figsize=(10,10))\n",
    "sns.barplot(x= algoritma, y= pred_test,palette='Paired')\n",
    "plt.title(\"Akurasi Test Set\")\n",
    "plt.xlabel(\"Algoritma\")\n",
    "plt.ylabel(\"Akurasi (%)\")\n",
    "plt.show()"
   ]
  },
  {
   "cell_type": "markdown",
   "id": "eeb2cc21-7d92-476b-8b35-524d73d351ea",
   "metadata": {},
   "source": [
    "- Akurasi Algoritma"
   ]
  },
  {
   "cell_type": "code",
   "execution_count": 244,
   "id": "975a097b-058c-4843-bb2d-b4ef1abc2108",
   "metadata": {},
   "outputs": [
    {
     "data": {
      "image/png": "[encoded data removed]",
      "text/plain": [
       "<Figure size 1000x1000 with 1 Axes>"
      ]
     },
     "metadata": {},
     "output_type": "display_data"
    }
   ],
   "source": [
    "algoritma = [\"KNN\",\"SVM\"]\n",
    "akurasi = [akurasi_KNN,akurasi_svm]\n",
    "\n",
    "plt.figure(figsize=(10,10))\n",
    "\n",
    "sns.barplot(x= algoritma,y = akurasi,palette='Paired')\n",
    "\n",
    "plt.title(\"Perbandingan Akurasi Algoritma\")\n",
    "plt.ylabel(\"Akurasi (%)\")\n",
    "plt.xlabel(\"Algoritma\")\n",
    "plt.show()"
   ]
  },
  {
   "cell_type": "markdown",
   "id": "aee051df-f921-44f8-b55d-e15848208716",
   "metadata": {},
   "source": [
    "## Confusion Matrix"
   ]
  },
  {
   "cell_type": "code",
   "execution_count": 245,
   "id": "62b1c712-553d-471c-890d-9f27c8ecadb6",
   "metadata": {},
   "outputs": [],
   "source": [
    "from sklearn.metrics import confusion_matrix, ConfusionMatrixDisplay"
   ]
  },
  {
   "cell_type": "code",
   "execution_count": 246,
   "id": "2afeb982-bebc-45fc-9e54-b0bfd93e2049",
   "metadata": {},
   "outputs": [
    {
     "name": "stdout",
     "output_type": "stream",
     "text": [
      "Confusion matrix : \n",
      "\n",
      " [[487  26]\n",
      " [ 58 259]]\n"
     ]
    },
    {
     "data": {
      "image/png": "[encoded data removed]",
      "text/plain": [
       "<Figure size 640x480 with 2 Axes>"
      ]
     },
     "metadata": {},
     "output_type": "display_data"
    }
   ],
   "source": [
    "knn = KNeighborsClassifier()\n",
    "knn.fit(X_train,y_train)\n",
    "\n",
    "knn_pred = knn.predict(X_test)\n",
    "\n",
    "cm = confusion_matrix(y_test, knn_pred)\n",
    "print('Confusion matrix : \\n\\n', cm)\n",
    "\n",
    "displays = ConfusionMatrixDisplay(confusion_matrix=cm,display_labels=knn.classes_)\n",
    "displays.plot()\n",
    "\n",
    "plt.title(\"Confusion Matrix Algoritma KNN\")\n",
    "plt.grid(False)"
   ]
  },
  {
   "cell_type": "code",
   "execution_count": 247,
   "id": "946a378f-4890-4ff9-bb71-61700a05a84d",
   "metadata": {},
   "outputs": [
    {
     "name": "stdout",
     "output_type": "stream",
     "text": [
      "Akurasi Training Set :  96.1 %\n"
     ]
    },
    {
     "name": "stderr",
     "output_type": "stream",
     "text": [
      "C:\\Users\\LENOVO\\AppData\\Local\\Programs\\Python\\Python310\\lib\\site-packages\\sklearn\\model_selection\\_validation.py:378: FitFailedWarning: \n",
      "3 fits failed out of a total of 15.\n",
      "The score on these train-test partitions for these parameters will be set to nan.\n",
      "If these failures are not expected, you can try to debug them by setting error_score='raise'.\n",
      "\n",
      "Below are more details about the failures:\n",
      "--------------------------------------------------------------------------------\n",
      "3 fits failed with the following error:\n",
      "Traceback (most recent call last):\n",
      "  File \"C:\\Users\\LENOVO\\AppData\\Local\\Programs\\Python\\Python310\\lib\\site-packages\\sklearn\\model_selection\\_validation.py\", line 686, in _fit_and_score\n",
      "    estimator.fit(X_train, y_train, **fit_params)\n",
      "  File \"C:\\Users\\LENOVO\\AppData\\Local\\Programs\\Python\\Python310\\lib\\site-packages\\sklearn\\neighbors\\_classification.py\", line 207, in fit\n",
      "    return self._fit(X, y)\n",
      "  File \"C:\\Users\\LENOVO\\AppData\\Local\\Programs\\Python\\Python310\\lib\\site-packages\\sklearn\\neighbors\\_base.py\", line 603, in _fit\n",
      "    raise ValueError(\"Expected n_neighbors > 0. Got %d\" % self.n_neighbors)\n",
      "ValueError: Expected n_neighbors > 0. Got 0\n",
      "\n",
      "  warnings.warn(some_fits_failed_message, FitFailedWarning)\n",
      "C:\\Users\\LENOVO\\AppData\\Local\\Programs\\Python\\Python310\\lib\\site-packages\\sklearn\\model_selection\\_search.py:953: UserWarning: One or more of the test scores are non-finite: [       nan 0.84126101 0.81127    0.86970485 0.8391842 ]\n",
      "  warnings.warn(\n"
     ]
    }
   ],
   "source": [
    "from sklearn.model_selection import GridSearchCV\n",
    "modelKNN = KNeighborsClassifier()\n",
    "\n",
    "param_grid = { \"n_neighbors\" :[i for i in range(0,5)]}\n",
    "\n",
    "gsv = GridSearchCV(estimator=modelKNN, param_grid=param_grid, scoring='accuracy', cv=3, n_jobs=-1)\n",
    "\n",
    "gs = gsv.fit(X_train, y_train)\n",
    "\n",
    "print(\"Akurasi Training Set : \",round(gs.score(X_train,y_train)*100,1),\"%\")"
   ]
  }
 ],
 "metadata": {
  "kernelspec": {
   "display_name": "Python 3 (ipykernel)",
   "language": "python",
   "name": "python3"
  },
  "language_info": {
   "codemirror_mode": {
    "name": "ipython",
    "version": 3
   },
   "file_extension": ".py",
   "mimetype": "text/x-python",
   "name": "python",
   "nbconvert_exporter": "python",
   "pygments_lexer": "ipython3",
   "version": "3.10.7"
  }
 },
 "nbformat": 4,
 "nbformat_minor": 5
}
