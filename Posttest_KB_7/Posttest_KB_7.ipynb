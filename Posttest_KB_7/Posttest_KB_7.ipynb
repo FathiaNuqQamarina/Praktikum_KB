{
 "cells": [
  {
   "cell_type": "markdown",
   "id": "bb34ae44-dc15-4790-ba0c-a392ebef9ac1",
   "metadata": {},
   "source": [
    "### Fathia Nuq Qamarina\n",
    "### 2009106012\n",
    "### A1 20\n",
    "### Posttest 7"
   ]
  },
  {
   "cell_type": "markdown",
   "id": "86aebe0c-390e-415f-b5ce-1e256fa79b5d",
   "metadata": {},
   "source": [
    "#### Mengimport TensorFlow"
   ]
  },
  {
   "cell_type": "code",
   "execution_count": 1,
   "id": "07ac92eb-9780-49b6-a299-dec143608177",
   "metadata": {},
   "outputs": [],
   "source": [
    "import tensorflow as tf"
   ]
  },
  {
   "cell_type": "markdown",
   "id": "41e0dd26-ffc1-440a-986e-72d50323f7f0",
   "metadata": {},
   "source": [
    "#### Membuat Sebuah Tensor dengan shape(5,5) dengan nilai rendom yang disimpan dalam variabel random_tensor"
   ]
  },
  {
   "cell_type": "code",
   "execution_count": 2,
   "id": "d3f13ad4-23da-4f0a-8dbf-a7e9ed62be07",
   "metadata": {},
   "outputs": [
    {
     "data": {
      "text/plain": [
       "array([[-0.8113182 ,  1.4845988 ,  0.06532937, -2.4427042 ,  0.0992484 ],\n",
       "       [ 0.5912243 ,  0.59282297, -2.1229296 , -0.72289723, -0.05627038],\n",
       "       [ 0.6435448 , -0.26432407,  1.8566332 ,  0.5678417 , -0.3828359 ],\n",
       "       [-1.4853433 ,  1.2617711 , -0.02530608, -0.2646297 ,  1.5328138 ],\n",
       "       [-1.7429771 , -0.43789294, -0.56601   ,  0.32066926,  1.132831  ]],\n",
       "      dtype=float32)"
      ]
     },
     "execution_count": 2,
     "metadata": {},
     "output_type": "execute_result"
    }
   ],
   "source": [
    "random_tensor = tf.random.normal([5,5],mean=0,stddev=1.0,seed=1)\n",
    "random_tensor.numpy()"
   ]
  },
  {
   "cell_type": "markdown",
   "id": "c71db131-1fa4-45b8-92f0-88007f9d1a00",
   "metadata": {},
   "source": [
    "#### Membuat sebuah tensor dengan shape(5,5) dari sebuah list dengan nilai bilangan prima dalam variabel prime_tensor"
   ]
  },
  {
   "cell_type": "code",
   "execution_count": 3,
   "id": "8782febd-c657-4d2e-be11-4614af163deb",
   "metadata": {},
   "outputs": [
    {
     "name": "stdout",
     "output_type": "stream",
     "text": [
      "tf.Tensor(\n",
      "[[ 2.  3.  5.  7. 11.]\n",
      " [13. 17. 19. 23. 29.]\n",
      " [31. 37. 41. 43. 47.]\n",
      " [53. 59. 61. 67. 71.]\n",
      " [73. 79. 83. 89. 97.]], shape=(5, 5), dtype=float32)\n"
     ]
    }
   ],
   "source": [
    "#membuat sebuah list dengan nilai bilangan prima\n",
    "prime_list = [[2,3,5,7,11],[13,17,19,23,29],[31,37,41,43,47],[53,59,61,67,71],[73,79,83,89,97]]\n",
    "#mengconvert list ke tensor\n",
    "prime_tensor = tf.convert_to_tensor(prime_list, dtype=tf.float32)\n",
    "\n",
    "print(prime_tensor)"
   ]
  },
  {
   "cell_type": "markdown",
   "id": "d10e43de-9409-4bea-affb-c6dafd5c310b",
   "metadata": {},
   "source": [
    "#### Menampilkan dimensi kedua variabel"
   ]
  },
  {
   "cell_type": "markdown",
   "id": "084d7523-3e5a-4bd7-971e-35651d4d7c91",
   "metadata": {},
   "source": [
    "- random_tansor"
   ]
  },
  {
   "cell_type": "code",
   "execution_count": 4,
   "id": "414ba7f4-524f-4b8a-b561-eee2c84ef17c",
   "metadata": {},
   "outputs": [
    {
     "data": {
      "text/plain": [
       "TensorShape([5, 5])"
      ]
     },
     "execution_count": 4,
     "metadata": {},
     "output_type": "execute_result"
    }
   ],
   "source": [
    "#variabel random_tensor\n",
    "random_tensor.shape"
   ]
  },
  {
   "cell_type": "code",
   "execution_count": 5,
   "id": "3e865d10-5704-4b30-8dcd-50df67b68c0c",
   "metadata": {},
   "outputs": [
    {
     "data": {
      "text/plain": [
       "TensorShape([5, 5])"
      ]
     },
     "execution_count": 5,
     "metadata": {},
     "output_type": "execute_result"
    }
   ],
   "source": [
    "random_tensor.get_shape()"
   ]
  },
  {
   "cell_type": "code",
   "execution_count": 6,
   "id": "68ee93f2-97df-42a5-9f1a-7a239346e970",
   "metadata": {},
   "outputs": [
    {
     "data": {
      "text/plain": [
       "<tf.Tensor: shape=(2,), dtype=int32, numpy=array([5, 5])>"
      ]
     },
     "execution_count": 6,
     "metadata": {},
     "output_type": "execute_result"
    }
   ],
   "source": [
    "tf.shape(random_tensor)"
   ]
  },
  {
   "cell_type": "markdown",
   "id": "396ac1ff-f279-4ec8-8f13-8192c62d907a",
   "metadata": {},
   "source": [
    "- prime_tensor"
   ]
  },
  {
   "cell_type": "code",
   "execution_count": 7,
   "id": "556241af-f332-44ad-b172-720d1967180c",
   "metadata": {},
   "outputs": [
    {
     "data": {
      "text/plain": [
       "TensorShape([5, 5])"
      ]
     },
     "execution_count": 7,
     "metadata": {},
     "output_type": "execute_result"
    }
   ],
   "source": [
    "#variabel prime_tensor\n",
    "prime_tensor.shape"
   ]
  },
  {
   "cell_type": "code",
   "execution_count": 8,
   "id": "0ea7177b-a039-40df-bd48-2b0370c24cf4",
   "metadata": {},
   "outputs": [
    {
     "data": {
      "text/plain": [
       "TensorShape([5, 5])"
      ]
     },
     "execution_count": 8,
     "metadata": {},
     "output_type": "execute_result"
    }
   ],
   "source": [
    "prime_tensor.get_shape()"
   ]
  },
  {
   "cell_type": "code",
   "execution_count": 9,
   "id": "eb362341-e846-4b44-9b0f-f1c3ad40a3e7",
   "metadata": {},
   "outputs": [
    {
     "data": {
      "text/plain": [
       "<tf.Tensor: shape=(2,), dtype=int32, numpy=array([5, 5])>"
      ]
     },
     "execution_count": 9,
     "metadata": {},
     "output_type": "execute_result"
    }
   ],
   "source": [
    "tf.shape(prime_tensor)"
   ]
  },
  {
   "cell_type": "markdown",
   "id": "baf2f333-4303-4cbd-9b73-7b2e08aaa212",
   "metadata": {},
   "source": [
    "#### Menampilkan hasil perhitungan aritmatika 2 variabel (minimal 5 operator)"
   ]
  },
  {
   "cell_type": "markdown",
   "id": "e4b2c79f-875f-4d27-a03d-2aa6cac99b93",
   "metadata": {},
   "source": [
    "- Penjumlahan"
   ]
  },
  {
   "cell_type": "code",
   "execution_count": 10,
   "id": "16c5ba8f-cdfe-43c4-86da-dc0df5e42d9b",
   "metadata": {},
   "outputs": [
    {
     "name": "stdout",
     "output_type": "stream",
     "text": [
      "tf.Tensor(\n",
      "[[ 1.1886818  4.4845986  5.0653296  4.557296  11.099248 ]\n",
      " [13.591225  17.592823  16.877071  22.277103  28.94373  ]\n",
      " [31.643545  36.735676  42.856632  43.56784   46.617165 ]\n",
      " [51.514656  60.261772  60.974693  66.73537   72.532814 ]\n",
      " [71.25702   78.5621    82.43399   89.32067   98.13283  ]], shape=(5, 5), dtype=float32)\n"
     ]
    }
   ],
   "source": [
    "print(tf.add(random_tensor,prime_tensor))"
   ]
  },
  {
   "cell_type": "markdown",
   "id": "4d846a59-14c4-4ea5-b73e-000858485ec5",
   "metadata": {},
   "source": [
    "- Pengurangan"
   ]
  },
  {
   "cell_type": "code",
   "execution_count": 11,
   "id": "b01a1d34-34a8-4c90-a93d-d05f1f7689d9",
   "metadata": {},
   "outputs": [
    {
     "name": "stdout",
     "output_type": "stream",
     "text": [
      "tf.Tensor(\n",
      "[[ -2.8113182  -1.5154012  -4.9346704  -9.442704  -10.900752 ]\n",
      " [-12.408775  -16.407177  -21.122929  -23.722897  -29.05627  ]\n",
      " [-30.356455  -37.264324  -39.143368  -42.43216   -47.382835 ]\n",
      " [-54.485344  -57.738228  -61.025307  -67.26463   -69.467186 ]\n",
      " [-74.74298   -79.4379    -83.56601   -88.67933   -95.86717  ]], shape=(5, 5), dtype=float32)\n"
     ]
    }
   ],
   "source": [
    "print(tf.subtract(random_tensor,prime_tensor))"
   ]
  },
  {
   "cell_type": "markdown",
   "id": "194d1b61-ee6e-4409-bea2-ddbf0c6fb964",
   "metadata": {},
   "source": [
    "- Perkalian"
   ]
  },
  {
   "cell_type": "code",
   "execution_count": 12,
   "id": "39d47843-3a26-4d7b-99bd-34ebcf279d4b",
   "metadata": {},
   "outputs": [
    {
     "name": "stdout",
     "output_type": "stream",
     "text": [
      "tf.Tensor(\n",
      "[[  -1.6226364     4.4537964     0.32664686  -17.09893       1.0917324 ]\n",
      " [   7.685916     10.077991    -40.335663    -16.626637     -1.6318411 ]\n",
      " [  19.949888     -9.77999      76.12196      24.417194    -17.993286  ]\n",
      " [ -78.7232       74.444496     -1.5436709   -17.73019     108.82978   ]\n",
      " [-127.237335    -34.593544    -46.97883      28.539564    109.884605  ]], shape=(5, 5), dtype=float32)\n"
     ]
    }
   ],
   "source": [
    "print(tf.multiply(random_tensor,prime_tensor))"
   ]
  },
  {
   "cell_type": "markdown",
   "id": "c378205f-7edb-4350-81e1-81c5bde31647",
   "metadata": {},
   "source": [
    "- Pembagian"
   ]
  },
  {
   "cell_type": "code",
   "execution_count": 13,
   "id": "b60a718a-45fd-4568-9e4c-71b32090f149",
   "metadata": {},
   "outputs": [
    {
     "name": "stdout",
     "output_type": "stream",
     "text": [
      "tf.Tensor(\n",
      "[[-4.0565911e-01  4.9486625e-01  1.3065875e-02 -3.4895775e-01\n",
      "   9.0225823e-03]\n",
      " [ 4.5478795e-02  3.4871940e-02 -1.1173314e-01 -3.1430315e-02\n",
      "  -1.9403580e-03]\n",
      " [ 2.0759510e-02 -7.1438937e-03  4.5283735e-02  1.3205621e-02\n",
      "  -8.1454450e-03]\n",
      " [-2.8025346e-02  2.1385951e-02 -4.1485377e-04 -3.9496967e-03\n",
      "   2.1588927e-02]\n",
      " [-2.3876399e-02 -5.5429488e-03 -6.8193977e-03  3.6030253e-03\n",
      "   1.1678670e-02]], shape=(5, 5), dtype=float32)\n"
     ]
    }
   ],
   "source": [
    "print(tf.divide(random_tensor,prime_tensor))"
   ]
  },
  {
   "cell_type": "markdown",
   "id": "0f3c6bb8-8181-4b2a-abfc-073775e631a6",
   "metadata": {},
   "source": [
    "- Logaritma"
   ]
  },
  {
   "cell_type": "code",
   "execution_count": 14,
   "id": "d3a7b1e2-5d44-4233-8f31-fbc62aa8bb6f",
   "metadata": {},
   "outputs": [
    {
     "name": "stdout",
     "output_type": "stream",
     "text": [
      "tf.Tensor(\n",
      "[[        nan  0.39514455 -2.7283134          nan -2.3101294 ]\n",
      " [-0.5255598  -0.52285945         nan         nan         nan]\n",
      " [-0.44076362         nan  0.61876476 -0.5659126          nan]\n",
      " [        nan  0.23251635         nan         nan  0.42710513]\n",
      " [        nan         nan         nan -1.1373451   0.12471979]], shape=(5, 5), dtype=float32)\n"
     ]
    }
   ],
   "source": [
    "print(tf.math.log(random_tensor,prime_tensor))"
   ]
  },
  {
   "cell_type": "markdown",
   "id": "45154914-bee3-4269-8e0f-2a5c1171d029",
   "metadata": {},
   "source": [
    "- Perpangkatan"
   ]
  },
  {
   "cell_type": "code",
   "execution_count": 15,
   "id": "2ee5b421-9279-42e1-b6e3-0b89eac159ad",
   "metadata": {},
   "outputs": [
    {
     "name": "stdout",
     "output_type": "stream",
     "text": [
      "tf.Tensor(\n",
      "[[ 6.5823728e-01  3.2721055e+00  1.1899876e-06 -5.1891492e+02\n",
      "   9.2036214e-12]\n",
      " [ 1.0783996e-03  1.3795117e-04 -1.6284565e+06 -5.7380047e-04\n",
      "  -5.7294839e-37]\n",
      " [ 1.1639711e-06 -4.1596646e-22  1.0417667e+11  2.7025481e-11\n",
      "  -2.5211261e-20]\n",
      " [-1.2788605e+09  9.0751462e+05 -0.0000000e+00 -0.0000000e+00\n",
      "   1.4782479e+13]\n",
      " [-4.1142766e+17 -4.6565877e-29 -3.0507073e-21  0.0000000e+00\n",
      "   1.7948009e+05]], shape=(5, 5), dtype=float32)\n"
     ]
    }
   ],
   "source": [
    "print(tf.pow(random_tensor,prime_tensor))"
   ]
  },
  {
   "cell_type": "markdown",
   "id": "34ecff86-c301-410b-95f7-768b78090ca3",
   "metadata": {},
   "source": [
    "#### Menampilkan nilai maksimum dan minimal dari variabel random_tensor"
   ]
  },
  {
   "cell_type": "markdown",
   "id": "e4030237-c4ea-4863-be96-8e263ca96044",
   "metadata": {},
   "source": [
    "- Nilai Maksimum"
   ]
  },
  {
   "cell_type": "code",
   "execution_count": 16,
   "id": "d66f7ee7-836d-48bf-a989-4c714f2055b2",
   "metadata": {},
   "outputs": [
    {
     "name": "stdout",
     "output_type": "stream",
     "text": [
      "Nilai Maksimum Menurut Kolom : [2 0 2 2 3]\n",
      "Nilai Maksimum Menurut Baris : [1 1 2 4 4]\n"
     ]
    }
   ],
   "source": [
    "max_1 = tf.argmax(random_tensor, axis=0)\n",
    "max_2 = tf.argmax(random_tensor, axis=1)\n",
    "print(\"Nilai Maksimum Menurut Kolom :\",max_1.numpy())\n",
    "print(\"Nilai Maksimum Menurut Baris :\",max_2.numpy())"
   ]
  },
  {
   "cell_type": "markdown",
   "id": "966d6b67-bef0-4207-89c5-4e7f40db3f7c",
   "metadata": {},
   "source": [
    "- Nilai Minimum"
   ]
  },
  {
   "cell_type": "code",
   "execution_count": 17,
   "id": "f04655f6-3edd-4974-b115-53da7762767e",
   "metadata": {},
   "outputs": [
    {
     "name": "stdout",
     "output_type": "stream",
     "text": [
      "Nilai Minimum Menurut Kolom : [4 4 1 0 2]\n",
      "Nilai Minimum Menurut Baris : [3 2 4 0 0]\n"
     ]
    }
   ],
   "source": [
    "min_1 = tf.argmin(random_tensor, axis=0)\n",
    "min_2 = tf.argmin(random_tensor, axis=1)\n",
    "print(\"Nilai Minimum Menurut Kolom :\",min_1.numpy())\n",
    "print(\"Nilai Minimum Menurut Baris :\",min_2.numpy())"
   ]
  },
  {
   "cell_type": "markdown",
   "id": "ba416779-bd52-4ab1-ab54-12561b9f4df6",
   "metadata": {},
   "source": [
    "#### Menampilkan hasil penggabungan variabel random_tensor dengan prime_tensor (concatenation)"
   ]
  },
  {
   "cell_type": "code",
   "execution_count": 18,
   "id": "ac2548c6-32a0-4ea8-a145-9a96934e144b",
   "metadata": {},
   "outputs": [
    {
     "name": "stdout",
     "output_type": "stream",
     "text": [
      "Ukuran Asli Data: (5, 5) (5, 5)\n",
      "Ukuran Data Setelah Penggabungan: (10, 5)\n"
     ]
    }
   ],
   "source": [
    "print(\"Ukuran Asli Data:\",random_tensor.shape,prime_tensor.shape)\n",
    "concated_tensor = tf.concat([random_tensor,prime_tensor],axis=0)\n",
    "print(\"Ukuran Data Setelah Penggabungan:\",concated_tensor.shape)"
   ]
  },
  {
   "cell_type": "markdown",
   "id": "3766c727-5dc3-46f9-828a-65074a155bc6",
   "metadata": {},
   "source": [
    "#### Menampilkan hasil sorting dari kedua variabel (descending)"
   ]
  },
  {
   "cell_type": "markdown",
   "id": "1f64df49-2ec5-4b36-8897-9414ab7f8e93",
   "metadata": {},
   "source": [
    "- random_tensor"
   ]
  },
  {
   "cell_type": "code",
   "execution_count": 19,
   "id": "bd16cac1-c71e-4edd-a701-a2bd7b9df0f4",
   "metadata": {},
   "outputs": [
    {
     "name": "stdout",
     "output_type": "stream",
     "text": [
      "Hasil Sorting Descensing: [[ 1.4845988   0.0992484   0.06532937 -0.8113182  -2.4427042 ]\n",
      " [ 0.59282297  0.5912243  -0.05627038 -0.72289723 -2.1229296 ]\n",
      " [ 1.8566332   0.6435448   0.5678417  -0.26432407 -0.3828359 ]\n",
      " [ 1.5328138   1.2617711  -0.02530608 -0.2646297  -1.4853433 ]\n",
      " [ 1.132831    0.32066926 -0.43789294 -0.56601    -1.7429771 ]]\n",
      "Indexes dari Element Sorting Descending: [[1 4 2 0 3]\n",
      " [1 0 4 3 2]\n",
      " [2 0 3 1 4]\n",
      " [4 1 2 3 0]\n",
      " [4 3 1 2 0]]\n"
     ]
    }
   ],
   "source": [
    "sorted_r1 = tf.sort(random_tensor, direction=\"DESCENDING\")\n",
    "print(\"Hasil Sorting Descensing:\",sorted_r1.numpy())\n",
    "sorted_r2 = tf.argsort(random_tensor,direction=\"DESCENDING\")\n",
    "print(\"Indexes dari Element Sorting Descending:\",sorted_r2.numpy())"
   ]
  },
  {
   "cell_type": "markdown",
   "id": "3c8086b5-5e0e-40f2-ae69-8ba01e5689d5",
   "metadata": {},
   "source": [
    "- prime_tensor"
   ]
  },
  {
   "cell_type": "code",
   "execution_count": 20,
   "id": "3b005807-3b05-4764-8e9a-0de8bf1393aa",
   "metadata": {},
   "outputs": [
    {
     "name": "stdout",
     "output_type": "stream",
     "text": [
      "Hasil Sorting Descensing: [[11.  7.  5.  3.  2.]\n",
      " [29. 23. 19. 17. 13.]\n",
      " [47. 43. 41. 37. 31.]\n",
      " [71. 67. 61. 59. 53.]\n",
      " [97. 89. 83. 79. 73.]]\n",
      "Indexes dari Element Sorting Descending: [[4 3 2 1 0]\n",
      " [4 3 2 1 0]\n",
      " [4 3 2 1 0]\n",
      " [4 3 2 1 0]\n",
      " [4 3 2 1 0]]\n"
     ]
    }
   ],
   "source": [
    "sorted_p1 = tf.sort(prime_tensor, direction=\"DESCENDING\")\n",
    "print(\"Hasil Sorting Descensing:\",sorted_p1.numpy())\n",
    "sorted_p2 = tf.argsort(prime_tensor,direction=\"DESCENDING\")\n",
    "print(\"Indexes dari Element Sorting Descending:\",sorted_p2.numpy())"
   ]
  },
  {
   "cell_type": "markdown",
   "id": "69e95750-d06f-4806-97a0-3db0fdbd0d91",
   "metadata": {},
   "source": [
    "- Tensor Gabungan "
   ]
  },
  {
   "cell_type": "code",
   "execution_count": 21,
   "id": "dec47d45-6d56-4f24-be45-0bc01029bac4",
   "metadata": {},
   "outputs": [
    {
     "name": "stdout",
     "output_type": "stream",
     "text": [
      "tf.Tensor(\n",
      "[[-8.1131822e-01  1.4845988e+00  6.5329373e-02 -2.4427042e+00\n",
      "   9.9248402e-02]\n",
      " [ 5.9122431e-01  5.9282297e-01 -2.1229296e+00 -7.2289723e-01\n",
      "  -5.6270380e-02]\n",
      " [ 6.4354479e-01 -2.6432407e-01  1.8566332e+00  5.6784171e-01\n",
      "  -3.8283589e-01]\n",
      " [-1.4853433e+00  1.2617711e+00 -2.5306080e-02 -2.6462969e-01\n",
      "   1.5328138e+00]\n",
      " [-1.7429771e+00 -4.3789294e-01 -5.6601000e-01  3.2066926e-01\n",
      "   1.1328310e+00]\n",
      " [ 2.0000000e+00  3.0000000e+00  5.0000000e+00  7.0000000e+00\n",
      "   1.1000000e+01]\n",
      " [ 1.3000000e+01  1.7000000e+01  1.9000000e+01  2.3000000e+01\n",
      "   2.9000000e+01]\n",
      " [ 3.1000000e+01  3.7000000e+01  4.1000000e+01  4.3000000e+01\n",
      "   4.7000000e+01]\n",
      " [ 5.3000000e+01  5.9000000e+01  6.1000000e+01  6.7000000e+01\n",
      "   7.1000000e+01]\n",
      " [ 7.3000000e+01  7.9000000e+01  8.3000000e+01  8.9000000e+01\n",
      "   9.7000000e+01]], shape=(10, 5), dtype=float32)\n"
     ]
    }
   ],
   "source": [
    "print(concated_tensor)"
   ]
  },
  {
   "cell_type": "code",
   "execution_count": 22,
   "id": "8140703d-d245-4824-898b-0d8c7369ec1e",
   "metadata": {},
   "outputs": [
    {
     "name": "stdout",
     "output_type": "stream",
     "text": [
      "Hasil Sorting Descensing: [[ 1.4845988e+00  9.9248402e-02  6.5329373e-02 -8.1131822e-01\n",
      "  -2.4427042e+00]\n",
      " [ 5.9282297e-01  5.9122431e-01 -5.6270380e-02 -7.2289723e-01\n",
      "  -2.1229296e+00]\n",
      " [ 1.8566332e+00  6.4354479e-01  5.6784171e-01 -2.6432407e-01\n",
      "  -3.8283589e-01]\n",
      " [ 1.5328138e+00  1.2617711e+00 -2.5306080e-02 -2.6462969e-01\n",
      "  -1.4853433e+00]\n",
      " [ 1.1328310e+00  3.2066926e-01 -4.3789294e-01 -5.6601000e-01\n",
      "  -1.7429771e+00]\n",
      " [ 1.1000000e+01  7.0000000e+00  5.0000000e+00  3.0000000e+00\n",
      "   2.0000000e+00]\n",
      " [ 2.9000000e+01  2.3000000e+01  1.9000000e+01  1.7000000e+01\n",
      "   1.3000000e+01]\n",
      " [ 4.7000000e+01  4.3000000e+01  4.1000000e+01  3.7000000e+01\n",
      "   3.1000000e+01]\n",
      " [ 7.1000000e+01  6.7000000e+01  6.1000000e+01  5.9000000e+01\n",
      "   5.3000000e+01]\n",
      " [ 9.7000000e+01  8.9000000e+01  8.3000000e+01  7.9000000e+01\n",
      "   7.3000000e+01]]\n",
      "Indexes dari Element Sorting Descending: [[1 4 2 0 3]\n",
      " [1 0 4 3 2]\n",
      " [2 0 3 1 4]\n",
      " [4 1 2 3 0]\n",
      " [4 3 1 2 0]\n",
      " [4 3 2 1 0]\n",
      " [4 3 2 1 0]\n",
      " [4 3 2 1 0]\n",
      " [4 3 2 1 0]\n",
      " [4 3 2 1 0]]\n"
     ]
    }
   ],
   "source": [
    "sorted_c1 = tf.sort(concated_tensor, direction=\"DESCENDING\")\n",
    "print(\"Hasil Sorting Descensing:\",sorted_c1.numpy())\n",
    "sorted_c2 = tf.argsort(concated_tensor,direction=\"DESCENDING\")\n",
    "print(\"Indexes dari Element Sorting Descending:\",sorted_c2.numpy())"
   ]
  }
 ],
 "metadata": {
  "kernelspec": {
   "display_name": "Python 3 (ipykernel)",
   "language": "python",
   "name": "python3"
  },
  "language_info": {
   "codemirror_mode": {
    "name": "ipython",
    "version": 3
   },
   "file_extension": ".py",
   "mimetype": "text/x-python",
   "name": "python",
   "nbconvert_exporter": "python",
   "pygments_lexer": "ipython3",
   "version": "3.10.7"
  }
 },
 "nbformat": 4,
 "nbformat_minor": 5
}
